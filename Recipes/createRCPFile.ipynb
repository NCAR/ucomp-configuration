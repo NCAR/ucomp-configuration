{
 "cells": [
  {
   "cell_type": "code",
   "execution_count": 2,
   "metadata": {},
   "outputs": [],
   "source": [
    "import datetime\n",
    "import numpy as np"
   ]
  },
  {
   "cell_type": "code",
   "execution_count": 3,
   "metadata": {},
   "outputs": [],
   "source": [
    "centerList= [637.40,670.16, 706.20,789.40,761.10, 802.41 ,991.26, 1074.70,1079.80\t]"
   ]
  },
  {
   "cell_type": "code",
   "execution_count": 6,
   "metadata": {},
   "outputs": [],
   "source": [
    "centralWave = 637.4\n",
    "stepSize = 0.035\n",
    "waveSteps = 5\n",
    "cont = \"BOTH\"\n",
    "numsums = 16\n",
    "repeats = 4\n",
    "exposureTime = 80\n",
    "LCVRrelaxation = 300\n",
    "modulations = 4\n",
    "seconds = 1/1000\n",
    "cameras =2 \n",
    "\n",
    "now = datetime.datetime.strftime(datetime.datetime.now(),\"%a %b %d %H:%M:%S %Y\")\n",
    "executionTime = (LCVRrelaxation+exposureTime*modulations*numsums)*waveSteps*repeats*cameras*seconds"
   ]
  },
  {
   "cell_type": "code",
   "execution_count": 7,
   "metadata": {},
   "outputs": [],
   "source": [
    "with open(f\"{np.floor(centralWave):.0f}_{str(waveSteps).zfill(2)}wave_{stepSize}step_2beam_{numsums}sums_{repeats}reps_{cont}.rcp\",\"w\") as f:\n",
    "    f.write(f\"DATE {now}\\n\")\n",
    "    f.write(f\"AUTHOR: rcp Generator\")\n",
    "    f.write(f\"Expected execution time {executionTime:.1f}\\n\")\n",
    "    f.write(f\"#DATATYPE BEAM  WAVELENGTH  NUMSUMS\\n\")\n",
    "    for repeat in range(repeats):\n",
    "        for cam in [\"RCAM\",\"TCAM\"]:\n",
    "            for i in range(waveSteps):\n",
    "                f.write(f\"DATA {cam}\\t{((i-np.floor(waveSteps/2))*stepSize)+centralWave:.2f}\\t{cont}\\t{numsums}\\n\")\n",
    "            f.write(\"\\n\")"
   ]
  },
  {
   "cell_type": "code",
   "execution_count": 123,
   "metadata": {},
   "outputs": [],
   "source": [
    "file = open(\"eclipsePrep.md\")\n",
    "text = file.readlines()\n",
    "file.close()"
   ]
  },
  {
   "cell_type": "code",
   "execution_count": 107,
   "metadata": {},
   "outputs": [],
   "source": [
    "exposureTime = 0\n",
    "for t in text:\n",
    "    if \"data\" in t:\n",
    "        exposureCount += int(t.split(\"\\t\")[-1])*80*4+300"
   ]
  },
  {
   "cell_type": "code",
   "execution_count": 109,
   "metadata": {},
   "outputs": [
    {
     "data": {
      "text/plain": [
       "92.412"
      ]
     },
     "execution_count": 109,
     "metadata": {},
     "output_type": "execute_result"
    }
   ],
   "source": [
    "exposureCount/1000/60"
   ]
  },
  {
   "cell_type": "code",
   "execution_count": null,
   "metadata": {},
   "outputs": [],
   "source": []
  }
 ],
 "metadata": {
  "kernelspec": {
   "display_name": "Python 3",
   "language": "python",
   "name": "python3"
  },
  "language_info": {
   "codemirror_mode": {
    "name": "ipython",
    "version": 3
   },
   "file_extension": ".py",
   "mimetype": "text/x-python",
   "name": "python",
   "nbconvert_exporter": "python",
   "pygments_lexer": "ipython3",
   "version": "3.9.7"
  }
 },
 "nbformat": 4,
 "nbformat_minor": 2
}
