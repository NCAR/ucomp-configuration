{
 "cells": [
  {
   "cell_type": "markdown",
   "id": "18a0eac2",
   "metadata": {},
   "source": [
    "## To run this file locally please download the corrsponding lyotLib.ipynb and put it in your path with this file.\n",
    "\n",
    "The lyotLib notebook provides the code to create the stage plots and load the ucomp lyot filter config files."
   ]
  },
  {
   "cell_type": "code",
   "execution_count": 2,
   "id": "3069b890",
   "metadata": {},
   "outputs": [
    {
     "ename": "Exception",
     "evalue": "File `'lyotLib.ipynb.py'` not found.",
     "output_type": "error",
     "traceback": [
      "\u001b[1;31m---------------------------------------------------------------------------\u001b[0m",
      "\u001b[1;31mOSError\u001b[0m                                   Traceback (most recent call last)",
      "\u001b[1;32mC:\\ProgramData\\Anaconda3\\lib\\site-packages\\IPython\\core\\magics\\execution.py\u001b[0m in \u001b[0;36mrun\u001b[1;34m(self, parameter_s, runner, file_finder)\u001b[0m\n\u001b[0;32m    713\u001b[0m             \u001b[0mfpath\u001b[0m \u001b[1;33m=\u001b[0m \u001b[0marg_lst\u001b[0m\u001b[1;33m[\u001b[0m\u001b[1;36m0\u001b[0m\u001b[1;33m]\u001b[0m\u001b[1;33m\u001b[0m\u001b[1;33m\u001b[0m\u001b[0m\n\u001b[1;32m--> 714\u001b[1;33m             \u001b[0mfilename\u001b[0m \u001b[1;33m=\u001b[0m \u001b[0mfile_finder\u001b[0m\u001b[1;33m(\u001b[0m\u001b[0mfpath\u001b[0m\u001b[1;33m)\u001b[0m\u001b[1;33m\u001b[0m\u001b[1;33m\u001b[0m\u001b[0m\n\u001b[0m\u001b[0;32m    715\u001b[0m         \u001b[1;32mexcept\u001b[0m \u001b[0mIndexError\u001b[0m\u001b[1;33m:\u001b[0m\u001b[1;33m\u001b[0m\u001b[1;33m\u001b[0m\u001b[0m\n",
      "\u001b[1;32mC:\\ProgramData\\Anaconda3\\lib\\site-packages\\IPython\\utils\\path.py\u001b[0m in \u001b[0;36mget_py_filename\u001b[1;34m(name, force_win32)\u001b[0m\n\u001b[0;32m    108\u001b[0m     \u001b[1;32melse\u001b[0m\u001b[1;33m:\u001b[0m\u001b[1;33m\u001b[0m\u001b[1;33m\u001b[0m\u001b[0m\n\u001b[1;32m--> 109\u001b[1;33m         \u001b[1;32mraise\u001b[0m \u001b[0mIOError\u001b[0m\u001b[1;33m(\u001b[0m\u001b[1;34m'File `%r` not found.'\u001b[0m \u001b[1;33m%\u001b[0m \u001b[0mname\u001b[0m\u001b[1;33m)\u001b[0m\u001b[1;33m\u001b[0m\u001b[1;33m\u001b[0m\u001b[0m\n\u001b[0m\u001b[0;32m    110\u001b[0m \u001b[1;33m\u001b[0m\u001b[0m\n",
      "\u001b[1;31mOSError\u001b[0m: File `'lyotLib.ipynb.py'` not found.",
      "\nDuring handling of the above exception, another exception occurred:\n",
      "\u001b[1;31mException\u001b[0m                                 Traceback (most recent call last)",
      "\u001b[1;32m~\\AppData\\Local\\Temp\\ipykernel_37544\\2053750936.py\u001b[0m in \u001b[0;36m<module>\u001b[1;34m\u001b[0m\n\u001b[0;32m      2\u001b[0m \u001b[1;32mimport\u001b[0m \u001b[0mmatplotlib\u001b[0m\u001b[1;33m.\u001b[0m\u001b[0mpylab\u001b[0m \u001b[1;32mas\u001b[0m \u001b[0mplt\u001b[0m\u001b[1;33m\u001b[0m\u001b[1;33m\u001b[0m\u001b[0m\n\u001b[0;32m      3\u001b[0m \u001b[1;32mfrom\u001b[0m \u001b[0mpathlib\u001b[0m \u001b[1;32mimport\u001b[0m \u001b[0mPath\u001b[0m\u001b[1;33m\u001b[0m\u001b[1;33m\u001b[0m\u001b[0m\n\u001b[1;32m----> 4\u001b[1;33m \u001b[0mget_ipython\u001b[0m\u001b[1;33m(\u001b[0m\u001b[1;33m)\u001b[0m\u001b[1;33m.\u001b[0m\u001b[0mrun_line_magic\u001b[0m\u001b[1;33m(\u001b[0m\u001b[1;34m'run'\u001b[0m\u001b[1;33m,\u001b[0m \u001b[1;34m'lyotLib.ipynb'\u001b[0m\u001b[1;33m)\u001b[0m\u001b[1;33m\u001b[0m\u001b[1;33m\u001b[0m\u001b[0m\n\u001b[0m",
      "\u001b[1;32mC:\\ProgramData\\Anaconda3\\lib\\site-packages\\IPython\\core\\interactiveshell.py\u001b[0m in \u001b[0;36mrun_line_magic\u001b[1;34m(self, magic_name, line, _stack_depth)\u001b[0m\n\u001b[0;32m   2362\u001b[0m                 \u001b[0mkwargs\u001b[0m\u001b[1;33m[\u001b[0m\u001b[1;34m'local_ns'\u001b[0m\u001b[1;33m]\u001b[0m \u001b[1;33m=\u001b[0m \u001b[0mself\u001b[0m\u001b[1;33m.\u001b[0m\u001b[0mget_local_scope\u001b[0m\u001b[1;33m(\u001b[0m\u001b[0mstack_depth\u001b[0m\u001b[1;33m)\u001b[0m\u001b[1;33m\u001b[0m\u001b[1;33m\u001b[0m\u001b[0m\n\u001b[0;32m   2363\u001b[0m             \u001b[1;32mwith\u001b[0m \u001b[0mself\u001b[0m\u001b[1;33m.\u001b[0m\u001b[0mbuiltin_trap\u001b[0m\u001b[1;33m:\u001b[0m\u001b[1;33m\u001b[0m\u001b[1;33m\u001b[0m\u001b[0m\n\u001b[1;32m-> 2364\u001b[1;33m                 \u001b[0mresult\u001b[0m \u001b[1;33m=\u001b[0m \u001b[0mfn\u001b[0m\u001b[1;33m(\u001b[0m\u001b[1;33m*\u001b[0m\u001b[0margs\u001b[0m\u001b[1;33m,\u001b[0m \u001b[1;33m**\u001b[0m\u001b[0mkwargs\u001b[0m\u001b[1;33m)\u001b[0m\u001b[1;33m\u001b[0m\u001b[1;33m\u001b[0m\u001b[0m\n\u001b[0m\u001b[0;32m   2365\u001b[0m             \u001b[1;32mreturn\u001b[0m \u001b[0mresult\u001b[0m\u001b[1;33m\u001b[0m\u001b[1;33m\u001b[0m\u001b[0m\n\u001b[0;32m   2366\u001b[0m \u001b[1;33m\u001b[0m\u001b[0m\n",
      "\u001b[1;32mC:\\ProgramData\\Anaconda3\\lib\\site-packages\\decorator.py\u001b[0m in \u001b[0;36mfun\u001b[1;34m(*args, **kw)\u001b[0m\n\u001b[0;32m    230\u001b[0m             \u001b[1;32mif\u001b[0m \u001b[1;32mnot\u001b[0m \u001b[0mkwsyntax\u001b[0m\u001b[1;33m:\u001b[0m\u001b[1;33m\u001b[0m\u001b[1;33m\u001b[0m\u001b[0m\n\u001b[0;32m    231\u001b[0m                 \u001b[0margs\u001b[0m\u001b[1;33m,\u001b[0m \u001b[0mkw\u001b[0m \u001b[1;33m=\u001b[0m \u001b[0mfix\u001b[0m\u001b[1;33m(\u001b[0m\u001b[0margs\u001b[0m\u001b[1;33m,\u001b[0m \u001b[0mkw\u001b[0m\u001b[1;33m,\u001b[0m \u001b[0msig\u001b[0m\u001b[1;33m)\u001b[0m\u001b[1;33m\u001b[0m\u001b[1;33m\u001b[0m\u001b[0m\n\u001b[1;32m--> 232\u001b[1;33m             \u001b[1;32mreturn\u001b[0m \u001b[0mcaller\u001b[0m\u001b[1;33m(\u001b[0m\u001b[0mfunc\u001b[0m\u001b[1;33m,\u001b[0m \u001b[1;33m*\u001b[0m\u001b[1;33m(\u001b[0m\u001b[0mextras\u001b[0m \u001b[1;33m+\u001b[0m \u001b[0margs\u001b[0m\u001b[1;33m)\u001b[0m\u001b[1;33m,\u001b[0m \u001b[1;33m**\u001b[0m\u001b[0mkw\u001b[0m\u001b[1;33m)\u001b[0m\u001b[1;33m\u001b[0m\u001b[1;33m\u001b[0m\u001b[0m\n\u001b[0m\u001b[0;32m    233\u001b[0m     \u001b[0mfun\u001b[0m\u001b[1;33m.\u001b[0m\u001b[0m__name__\u001b[0m \u001b[1;33m=\u001b[0m \u001b[0mfunc\u001b[0m\u001b[1;33m.\u001b[0m\u001b[0m__name__\u001b[0m\u001b[1;33m\u001b[0m\u001b[1;33m\u001b[0m\u001b[0m\n\u001b[0;32m    234\u001b[0m     \u001b[0mfun\u001b[0m\u001b[1;33m.\u001b[0m\u001b[0m__doc__\u001b[0m \u001b[1;33m=\u001b[0m \u001b[0mfunc\u001b[0m\u001b[1;33m.\u001b[0m\u001b[0m__doc__\u001b[0m\u001b[1;33m\u001b[0m\u001b[1;33m\u001b[0m\u001b[0m\n",
      "\u001b[1;32mC:\\ProgramData\\Anaconda3\\lib\\site-packages\\IPython\\core\\magic.py\u001b[0m in \u001b[0;36m<lambda>\u001b[1;34m(f, *a, **k)\u001b[0m\n\u001b[0;32m    185\u001b[0m     \u001b[1;31m# but it's overkill for just that one bit of state.\u001b[0m\u001b[1;33m\u001b[0m\u001b[1;33m\u001b[0m\u001b[1;33m\u001b[0m\u001b[0m\n\u001b[0;32m    186\u001b[0m     \u001b[1;32mdef\u001b[0m \u001b[0mmagic_deco\u001b[0m\u001b[1;33m(\u001b[0m\u001b[0marg\u001b[0m\u001b[1;33m)\u001b[0m\u001b[1;33m:\u001b[0m\u001b[1;33m\u001b[0m\u001b[1;33m\u001b[0m\u001b[0m\n\u001b[1;32m--> 187\u001b[1;33m         \u001b[0mcall\u001b[0m \u001b[1;33m=\u001b[0m \u001b[1;32mlambda\u001b[0m \u001b[0mf\u001b[0m\u001b[1;33m,\u001b[0m \u001b[1;33m*\u001b[0m\u001b[0ma\u001b[0m\u001b[1;33m,\u001b[0m \u001b[1;33m**\u001b[0m\u001b[0mk\u001b[0m\u001b[1;33m:\u001b[0m \u001b[0mf\u001b[0m\u001b[1;33m(\u001b[0m\u001b[1;33m*\u001b[0m\u001b[0ma\u001b[0m\u001b[1;33m,\u001b[0m \u001b[1;33m**\u001b[0m\u001b[0mk\u001b[0m\u001b[1;33m)\u001b[0m\u001b[1;33m\u001b[0m\u001b[1;33m\u001b[0m\u001b[0m\n\u001b[0m\u001b[0;32m    188\u001b[0m \u001b[1;33m\u001b[0m\u001b[0m\n\u001b[0;32m    189\u001b[0m         \u001b[1;32mif\u001b[0m \u001b[0mcallable\u001b[0m\u001b[1;33m(\u001b[0m\u001b[0marg\u001b[0m\u001b[1;33m)\u001b[0m\u001b[1;33m:\u001b[0m\u001b[1;33m\u001b[0m\u001b[1;33m\u001b[0m\u001b[0m\n",
      "\u001b[1;32mC:\\ProgramData\\Anaconda3\\lib\\site-packages\\IPython\\core\\magics\\execution.py\u001b[0m in \u001b[0;36mrun\u001b[1;34m(self, parameter_s, runner, file_finder)\u001b[0m\n\u001b[0;32m    723\u001b[0m             \u001b[1;32mif\u001b[0m \u001b[0mos\u001b[0m\u001b[1;33m.\u001b[0m\u001b[0mname\u001b[0m \u001b[1;33m==\u001b[0m \u001b[1;34m'nt'\u001b[0m \u001b[1;32mand\u001b[0m \u001b[0mre\u001b[0m\u001b[1;33m.\u001b[0m\u001b[0mmatch\u001b[0m\u001b[1;33m(\u001b[0m\u001b[1;34mr\"^'.*'$\"\u001b[0m\u001b[1;33m,\u001b[0m\u001b[0mfpath\u001b[0m\u001b[1;33m)\u001b[0m\u001b[1;33m:\u001b[0m\u001b[1;33m\u001b[0m\u001b[1;33m\u001b[0m\u001b[0m\n\u001b[0;32m    724\u001b[0m                 \u001b[0mwarn\u001b[0m\u001b[1;33m(\u001b[0m\u001b[1;34m'For Windows, use double quotes to wrap a filename: %run \"mypath\\\\myfile.py\"'\u001b[0m\u001b[1;33m)\u001b[0m\u001b[1;33m\u001b[0m\u001b[1;33m\u001b[0m\u001b[0m\n\u001b[1;32m--> 725\u001b[1;33m             \u001b[1;32mraise\u001b[0m \u001b[0mException\u001b[0m\u001b[1;33m(\u001b[0m\u001b[0mmsg\u001b[0m\u001b[1;33m)\u001b[0m\u001b[1;33m\u001b[0m\u001b[1;33m\u001b[0m\u001b[0m\n\u001b[0m\u001b[0;32m    726\u001b[0m         \u001b[1;32mexcept\u001b[0m \u001b[0mTypeError\u001b[0m\u001b[1;33m:\u001b[0m\u001b[1;33m\u001b[0m\u001b[1;33m\u001b[0m\u001b[0m\n\u001b[0;32m    727\u001b[0m             \u001b[1;32mif\u001b[0m \u001b[0mfpath\u001b[0m \u001b[1;32min\u001b[0m \u001b[0msys\u001b[0m\u001b[1;33m.\u001b[0m\u001b[0mmeta_path\u001b[0m\u001b[1;33m:\u001b[0m\u001b[1;33m\u001b[0m\u001b[1;33m\u001b[0m\u001b[0m\n",
      "\u001b[1;31mException\u001b[0m: File `'lyotLib.ipynb.py'` not found."
     ]
    }
   ],
   "source": [
    "import numpy as np\n",
    "import matplotlib.pylab as plt\n",
    "from pathlib import Path\n",
    "%run lyotLib.ipynb"
   ]
  },
  {
   "cell_type": "markdown",
   "id": "61a403fa",
   "metadata": {},
   "source": [
    "### Birefringent filters\n",
    "\n",
    "Lyot filters are built in stages in which a single stage is configured with two linear polarizers mounted with their polarization axis at 0 degrees.  Sandwiched between these polarizers is a birefringent crystal with its fast and slow axises orited at + and - 45 degrees to the polarizes.   \n",
    "\n",
    "\n",
    "When an unpolarized beam of light is projected through one of these stages, the first polarizer acts as an input control, ensuring ½ of the light goes down each fast and slow axe.  The second polarizer acts as an analyzer. If the path length of the two axes is different by an exact wavelength multiple, it will produce constructive intefernace and allow 100% of the signal to pass.  However, if the path length is some multiple of the wavelength +½ of the wavelength, the light will complete destructive interference at the analyzer, and no signal will get thru.  \n",
    "\n",
    "Since this path length change is proportional to the physical thickness of the crystal in the stage; it acts like a periodic filter that can be locially approximated as a cosine function.   Do demonstrate this behavior (and other interesting features of the ucomp lyot filter we have built the createStages function, which will allow us to explore the filter.\n",
    "\n",
    "Where \n",
    "stages = the number of stages in the filter  (defualt value is 5)\n",
    "width = how may FSR ranges to display in the plot (default value is 1)\n"
   ]
  },
  {
   "cell_type": "code",
   "execution_count": null,
   "id": "bd98f739",
   "metadata": {},
   "outputs": [],
   "source": [
    "fig, ax = plt.subplots()\n",
    "ax.plot(*createStages(stages=1,width=4))\n",
    "ax.set_title('Single stage lyot filter')\n",
    "ax.set(ylabel=\"Tranmission\",xlabel=\"Number of waves from centeral wavelength\")"
   ]
  },
  {
   "cell_type": "markdown",
   "id": "dc089f36",
   "metadata": {},
   "source": [
    "If we double the crystal thickness, we end up with a crystal in which the interface cosine function has twice the frequency.  And if we chain these two crystals together with the output of the first stage passing into the second, this acts like multiplying two cosine functions together.   For the createStages code, we can convert the cosine function to physical length units by specifying the Free Spectral Range of a crystal in the filterConfig dictionary.\n",
    "\n",
    "We can see in the plots below that the thicker crystal with ½ the FSR has peaks and nulls at twice the frequency as the narrow crystal.  And when combined, every other peak constructively and destructively interferes, leaving us with a narrower central peak and less transmission in the wings. \n",
    "\n",
    "Where:\n",
    "filterConfig = a dictionary of configuration items for the plot.  And here, we are only setting the FSR, which has a default of 1.\n"
   ]
  },
  {
   "cell_type": "code",
   "execution_count": null,
   "id": "30704462",
   "metadata": {},
   "outputs": [],
   "source": [
    "\n",
    "fig, ax = plt.subplots()\n",
    "fig.tight_layout(rect=[0, 0.03, 1, 0.95])\n",
    "ax.plot(*createStages(stages=1,width=4,filterConfig={\"FSR\":1}),label=\"FSR=1\")\n",
    "ax.plot(*createStages(stages=1,width=8,filterConfig={\"FSR\":.5}),label=\"FSR=.5\")\n",
    "fig.suptitle('Two single stage filters with 2x differnce in FSR ')\n",
    "#ax.set_title(\"FSR = 1\")\n",
    "#ax.set_title(\"FSR = .5\")\n",
    "ax.set(ylabel=\"Tranmission\",xlabel=\"Number of waves from centeral wavelength\")\n",
    "ax.legend()\n",
    "\n",
    "\n",
    "fig, ax = plt.subplots()\n",
    "ax.plot(*createStages(stages=2,width=4))\n",
    "ax.set_title('Two stage lyot filter with 2x differnece in FSR between each crystal')\n",
    "ax.set(ylabel=\"Tranmission\",xlabel=\"Number of waves from centeral wavelength\")\n"
   ]
  },
  {
   "cell_type": "markdown",
   "id": "1220dfc2",
   "metadata": {},
   "source": [
    "If we add more stages with double the thickness of the next smallest crystal, we will create increassingly narrow centeral wavelengths while we continue to bead down the ringing in the wings.  For example, with the 5 stage UCoMP lyot fitler, we get a much sharper emission peak.  Here we have zoomed in, to just focus on the shape of the central peak, but like the plots shown above this is a peroidic filter that rings to infinity repeating this patter in either direction.  "
   ]
  },
  {
   "cell_type": "code",
   "execution_count": null,
   "id": "c4eba378",
   "metadata": {},
   "outputs": [],
   "source": [
    "\n",
    "fig, ax = plt.subplots()\n",
    "ax.plot(*createStages(stages=5))\n",
    "ax.set_title('5 Stage lyot filter wavelength response function')\n",
    "ax.set(ylabel=\"Tranmission\",xlabel=\"Number of waves from centeral wavelength\")\n"
   ]
  },
  {
   "cell_type": "markdown",
   "id": "63285368",
   "metadata": {},
   "source": [
    "At this point, we have developed the ability to produce very narrow wavelength filters, only depending on our precision machining crystals. Unfortunately, it is hard to get crystal thickness machined to wavelength fractions; the filter response is fixed in the machine shop.\n",
    "\n",
    "Suppose we insert a Liquid Crystal Variable Retarder (LCVR) behind the birefringent crystal.  We can use the LCVR to add path length to one axis.  By adjusting the voltages sent to the LCVR, we can change the retardance of the who stage and effectively change the path length of the stage.    Adding an LCVR gives us two powerful things; first, we only have to get the crystals cut flat and close to the needed thickness, saving complex machining; second, we can now tune the bandpass of the filter at the telescope.\n",
    "\n",
    "Below is an example of our tuning changes in our three wavelength waves program in UCoMP.\n",
    "\n",
    "\n"
   ]
  },
  {
   "cell_type": "code",
   "execution_count": null,
   "id": "e27f54da",
   "metadata": {},
   "outputs": [],
   "source": [
    "filterConfig1074 = getFilterConfig(\"tuning_calibration_1074.7.ini\")\n",
    "\n",
    "fig, ax = plt.subplots()\n",
    "ax.plot(*createStages(filterConfig=filterConfig1074,wavelength=1074.7),label=\"1074.7\")\n",
    "ax.plot(*createStages(filterConfig=filterConfig1074,wavelength=1074.59),label=\"1074.59\")\n",
    "ax.plot(*createStages(filterConfig=filterConfig1074,wavelength=1074.81),label=\"1074.81\")\n",
    "ax.set_title('Wavelength reponse of the 3 1074 waves tunings')\n",
    "ax.set(ylabel=\"Tranmission\",xlabel=\"Number of waves from centeral wavelength\")\n",
    "ax.legend()"
   ]
  },
  {
   "cell_type": "markdown",
   "id": "cea2dd2c",
   "metadata": {},
   "source": [
    "To calibrate the intensity of measurements we take in UCoMP, we make measurements of both the coronal emission line and the continuum from a nearby region of the spectrum. Given what we have seen about our ability to vary the measurement wavelength, we could access the continuum by re-tuning the filter and taking another data set. But we would like to measure the continuum simultaneously with the coronal signal. Here we can note that if we rotate an analyzer polarizer by 90 degrees, we are now looking at light that effectively has a pi/2 phase shift in the crystals. So if we put one of the narrow stages at the back of the filter and replace the linear polarizer with a polarizing beamsplitter, the lyot filter now has two, one near the central wavelength and one centered ½ FSR (or the narrow crystal) away.  \n",
    "\n",
    "To handle optical or other asymmetries between the throughput of two arms/cameras in UCoMP, we beam swap the central wavelength and continuum signals back and fother between the cameras while taking data. In the default configuration, the central emission line passes to the transmitted while the continuum is sent to the reflected arm. Still, if we add a phase of pi/2 to the last crystal in the stack (2nd thinnest), we now transmit the continuum thru the beam slipper and reflect the central wavelength.\n"
   ]
  },
  {
   "cell_type": "code",
   "execution_count": null,
   "id": "e9906392",
   "metadata": {},
   "outputs": [],
   "source": [
    "filterConfig1074 = getFilterConfig(\"tuning_calibration_1074.7.ini\")\n",
    "\n",
    "fig, ax = plt.subplots()\n",
    "ax.plot(*createStages(filterConfig=filterConfig1074,wavelength=1074.7),label=\"1074.7\")\n",
    "ax.plot(*createStages(filterConfig=filterConfig1074,wavelength=1074.7,cam=\"offband\"),label=\"1074.7 continum\")\n",
    "ax.plot(*createStages(filterConfig=filterConfig1074,wavelength=1074.81),label=\"1074.81\")\n",
    "ax.plot(*createStages(filterConfig=filterConfig1074,wavelength=1074.81,cam=\"offband\"),label=\"1074.81 continum\")\n",
    "ax.plot(*createStages(filterConfig=filterConfig1074,wavelength=1074.59),label=\"1074.59\")\n",
    "ax.plot(*createStages(filterConfig=filterConfig1074,wavelength=1074.59,cam=\"offband\"),label=\"1074.59 continum\")\n",
    "ax.set_title('1074.7 and its assoicated continumm')\n",
    "ax.set(ylabel=\"Tranmission\",xlabel=\"Number of waves from centeral wavelength\")\n",
    "ax.legend()"
   ]
  },
  {
   "cell_type": "markdown",
   "id": "6c57e022",
   "metadata": {},
   "source": [
    "In this scheme, the continuum location w.r.t. the central wavelength is a fixed distance defined by the filter FSR. So if there were a strong solar or atmospheric line in the continuum location, we wouldn't get the wrong answer. To account for this, UCoMP can change from a 50/50 split of the light coming from the red and blue wings to one in which we get an 85/15 favoring either the red or blue wing. To accomplish this, we send a pi/8 phase offset to stage0 (the thinnest crystal). The red/blue continuum shift is not a perfect solution for dealing with a strong emission line as we are still getting about 15% of our signal from this \"bad\" part of the continuum, but without changing the crystal thickness, there is not a lot that can be done. \n"
   ]
  },
  {
   "cell_type": "code",
   "execution_count": null,
   "id": "1cdbc2e1",
   "metadata": {},
   "outputs": [],
   "source": [
    "filterConfig1074 = getFilterConfig(\"tuning_calibration_1074.7.ini\")\n",
    "\n",
    "fig, ax = plt.subplots()\n",
    "ax.plot(*createStages(filterConfig=filterConfig1074,wavelength=1074.7),label=\"1074.7 both emission\")\n",
    "ax.plot(*createStages(filterConfig=filterConfig1074,wavelength=1074.7,cont=\"red\"),label=\"1074.7 red emission\")\n",
    "ax.plot(*createStages(filterConfig=filterConfig1074,wavelength=1074.7,cam=\"offband\"),label=\"1074.7 continum\")\n",
    "ax.plot(*createStages(filterConfig=filterConfig1074,wavelength=1074.7,cam=\"offband\",cont=\"red\"),label=\"1074.7 continum red\")\n",
    "ax.plot(*createStages(filterConfig=filterConfig1074,wavelength=1074.7,cam=\"offband\",cont=\"blue\"),label=\"1074.7 continum blue\")\n",
    "ax.set_title('1074.7 compaisron of the continum locations both, red, blue. Note with red or blue the central wavelength tranmission is reduced for 100 or ~90%')\n",
    "ax.set(ylabel=\"Tranmission\",xlabel=\"Number of waves from centeral wavelength\")\n",
    "ax.legend()"
   ]
  },
  {
   "cell_type": "markdown",
   "id": "9b5a2fd0",
   "metadata": {},
   "source": [
    "The UCoMP lyot filter is based on lithium niobate crystals; these lab-grown crystals offer large clear apertures and can be made with uniform properties in much larger physical sizes than the calcite crystals typically used on lyot filters. The one major drawback of these crystals is the birefringence of the crystal has a strong temperature coefficient. A tenth-of-a-degree change in the crystals completely throws off the calibrations. To account for we actively head the instrument box to ~33C and the filter to 35C with thermal blankets and a high-precision thermal control system. We also attached a milidegree thermometer to each crystal to monitor the actual temperature of each crystal and add phase offsets to the filter to account for any changes the crystal sees vs. the lab measurements when the filter was characterized.\n",
    "\n",
    "If just one crystal drifts, we can get a change in transmission location and intensity. "
   ]
  },
  {
   "cell_type": "code",
   "execution_count": null,
   "id": "af5e6adf",
   "metadata": {},
   "outputs": [],
   "source": [
    "filterConfig1074 = getFilterConfig(\"tuning_calibration_1074.7.ini\")\n",
    "\n",
    "offsets = np.array(filterConfig1074[\"tempCof\"])*.1\n",
    "\n",
    "fig, ax = plt.subplots()\n",
    "ax.plot(*createStages(width=.5,filterConfig=filterConfig1074,wavelength=1074.7),label=\"1074.7 both emission\")\n",
    "ax.plot(*createStages(width=.5,filterConfig=filterConfig1074,wavelength=1074.7,cam=\"offband\"),label=\"1074.7 continum\")\n",
    "ax.plot(*createStages(width=.5,filterConfig=filterConfig1074,wavelength=1074.7,offsets=offsets),label=\"1074.7 both emission .1C warm\")\n",
    "ax.plot(*createStages(width=.5,filterConfig=filterConfig1074,wavelength=1074.7,offsets=offsets,cam=\"offband\"),label=\"1074.7 continum .1C warm\")\n",
    "ax.set_title('Wavelength drift when all crystals change temp by +.1C')\n",
    "ax.set(ylabel=\"Tranmission\",xlabel=\"Number of waves from centeral wavelength\")\n",
    "ax.legend()\n",
    "\n",
    "\n",
    "\n",
    "offsets = [0,0,0,0,np.array(filterConfig1074[\"tempCof\"])[4]*.1]\n",
    "\n",
    "fig, ax = plt.subplots()\n",
    "ax.plot(*createStages(width=.5,filterConfig=filterConfig1074,wavelength=1074.7),label=\"1074.7 both emission\")\n",
    "ax.plot(*createStages(width=.5,filterConfig=filterConfig1074,wavelength=1074.7,cam=\"offband\"),label=\"1074.7 continum\")\n",
    "ax.plot(*createStages(width=.5,filterConfig=filterConfig1074,wavelength=1074.7,offsets=offsets),label=\"1074.7 both emission .1C warm\")\n",
    "ax.plot(*createStages(width=.5,filterConfig=filterConfig1074,wavelength=1074.7,offsets=offsets,cam=\"offband\"),label=\"1074.7 continum .1C warm\")\n",
    "ax.set_title('Wavelength drift when the thickest crystal changes temp by +.1C')\n",
    "ax.set(ylabel=\"Tranmission\",xlabel=\"Number of waves from centeral wavelength\")\n",
    "ax.legend()\n"
   ]
  },
  {
   "cell_type": "code",
   "execution_count": null,
   "id": "46ef04ff",
   "metadata": {},
   "outputs": [],
   "source": []
  }
 ],
 "metadata": {
  "kernelspec": {
   "display_name": "Python 3 (ipykernel)",
   "language": "python",
   "name": "python3"
  },
  "language_info": {
   "codemirror_mode": {
    "name": "ipython",
    "version": 3
   },
   "file_extension": ".py",
   "mimetype": "text/x-python",
   "name": "python",
   "nbconvert_exporter": "python",
   "pygments_lexer": "ipython3",
   "version": "3.8.13"
  }
 },
 "nbformat": 4,
 "nbformat_minor": 5
}
